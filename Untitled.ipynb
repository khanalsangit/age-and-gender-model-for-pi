{
 "cells": [
  {
   "cell_type": "code",
   "execution_count": 1,
   "id": "c2a714d5",
   "metadata": {},
   "outputs": [],
   "source": [
    "\n",
    "import pandas as pd\n",
    "import numpy as np\n",
    "import os\n",
    "import matplotlib.pyplot as plt\n",
    "import cv2\n",
    "from keras.models import Sequential,load_model,Model\n",
    "from keras.layers import Conv2D,MaxPool2D,Dense,Dropout,BatchNormalization,Flatten,Input\n",
    "from sklearn.model_selection import train_test_split\n"
   ]
  },
  {
   "cell_type": "code",
   "execution_count": 2,
   "id": "f80bea8a",
   "metadata": {},
   "outputs": [
    {
     "name": "stdout",
     "output_type": "stream",
     "text": [
      "Model: \"sequential\"\n",
      "_________________________________________________________________\n",
      " Layer (type)                Output Shape              Param #   \n",
      "=================================================================\n",
      " conv2d (Conv2D)             (None, 198, 198, 36)      1008      \n",
      "                                                                 \n",
      " max_pooling2d (MaxPooling2D  (None, 98, 98, 36)       0         \n",
      " )                                                               \n",
      "                                                                 \n",
      " conv2d_1 (Conv2D)           (None, 96, 96, 64)        20800     \n",
      "                                                                 \n",
      " max_pooling2d_1 (MaxPooling  (None, 47, 47, 64)       0         \n",
      " 2D)                                                             \n",
      "                                                                 \n",
      " conv2d_2 (Conv2D)           (None, 45, 45, 128)       73856     \n",
      "                                                                 \n",
      " max_pooling2d_2 (MaxPooling  (None, 22, 22, 128)      0         \n",
      " 2D)                                                             \n",
      "                                                                 \n",
      " conv2d_3 (Conv2D)           (None, 20, 20, 512)       590336    \n",
      "                                                                 \n",
      " max_pooling2d_3 (MaxPooling  (None, 9, 9, 512)        0         \n",
      " 2D)                                                             \n",
      "                                                                 \n",
      " flatten (Flatten)           (None, 41472)             0         \n",
      "                                                                 \n",
      " dropout (Dropout)           (None, 41472)             0         \n",
      "                                                                 \n",
      " dense (Dense)               (None, 512)               21234176  \n",
      "                                                                 \n",
      " age (Dense)                 (None, 1)                 513       \n",
      "                                                                 \n",
      "=================================================================\n",
      "Total params: 21,920,689\n",
      "Trainable params: 21,920,689\n",
      "Non-trainable params: 0\n",
      "_________________________________________________________________\n",
      "None\n"
     ]
    }
   ],
   "source": [
    "age_model = Sequential()\n",
    "age_model.add(Conv2D(36, kernel_size=3, activation='relu', input_shape=(200,200,3)))\n",
    "age_model.add(MaxPool2D(pool_size=3, strides=2))\n",
    "\n",
    "age_model.add(Conv2D(64, kernel_size=3, activation='relu'))\n",
    "age_model.add(MaxPool2D(pool_size=3, strides=2))\n",
    "              \n",
    "age_model.add(Conv2D(128, kernel_size=3, activation='relu'))\n",
    "age_model.add(MaxPool2D(pool_size=3, strides=2))\n",
    "\n",
    "age_model.add(Conv2D(512, kernel_size=3, activation='relu'))\n",
    "age_model.add(MaxPool2D(pool_size=3, strides=2))\n",
    "\n",
    "age_model.add(Flatten())\n",
    "age_model.add(Dropout(0.3))\n",
    "age_model.add(Dense(512, activation='relu'))\n",
    "\n",
    "age_model.add(Dense(1, activation='linear', name='age'))\n",
    "              \n",
    "age_model.compile(optimizer='adam', loss='mse', metrics=['mae'])\n",
    "print(age_model.summary()) "
   ]
  },
  {
   "cell_type": "code",
   "execution_count": 4,
   "id": "1d38b102",
   "metadata": {},
   "outputs": [
    {
     "name": "stdout",
     "output_type": "stream",
     "text": [
      "You must install pydot (`pip install pydot`) and install graphviz (see instructions at https://graphviz.gitlab.io/download/) for plot_model/model_to_dot to work.\n"
     ]
    }
   ],
   "source": [
    "from keras.utils import plot_model\n",
    "plot_model(age_model)"
   ]
  },
  {
   "cell_type": "code",
   "execution_count": 1,
   "id": "25c685ce",
   "metadata": {},
   "outputs": [
    {
     "ename": "ModuleNotFoundError",
     "evalue": "No module named 'picamera'",
     "output_type": "error",
     "traceback": [
      "\u001b[1;31m---------------------------------------------------------------------------\u001b[0m",
      "\u001b[1;31mModuleNotFoundError\u001b[0m                       Traceback (most recent call last)",
      "Input \u001b[1;32mIn [1]\u001b[0m, in \u001b[0;36m<cell line: 2>\u001b[1;34m()\u001b[0m\n\u001b[0;32m      1\u001b[0m \u001b[38;5;28;01mimport\u001b[39;00m \u001b[38;5;21;01mtime\u001b[39;00m\n\u001b[1;32m----> 2\u001b[0m \u001b[38;5;28;01mimport\u001b[39;00m \u001b[38;5;21;01mpicamera\u001b[39;00m\n\u001b[0;32m      3\u001b[0m \u001b[38;5;28;01mimport\u001b[39;00m \u001b[38;5;21;01mpicamera\u001b[39;00m\u001b[38;5;21;01m.\u001b[39;00m\u001b[38;5;21;01marray\u001b[39;00m\n\u001b[0;32m      4\u001b[0m \u001b[38;5;28;01mimport\u001b[39;00m \u001b[38;5;21;01mcv2\u001b[39;00m\n",
      "\u001b[1;31mModuleNotFoundError\u001b[0m: No module named 'picamera'"
     ]
    }
   ],
   "source": [
    "import time\n",
    "import picamera\n",
    "import picamera.array\n",
    "import cv2"
   ]
  },
  {
   "cell_type": "code",
   "execution_count": 1,
   "id": "6bcade59",
   "metadata": {},
   "outputs": [
    {
     "ename": "SyntaxError",
     "evalue": "invalid syntax (2751036734.py, line 1)",
     "output_type": "error",
     "traceback": [
      "\u001b[1;36m  Input \u001b[1;32mIn [1]\u001b[1;36m\u001b[0m\n\u001b[1;33m    cap=cv2.VideoCapture(https://www.youtube.com/watch?v=wpHj0Uy9NXI&list=PLuo9pQBhyjG6M5crGFlksWzxC3C3ZgQ1o&index=7)\u001b[0m\n\u001b[1;37m                              ^\u001b[0m\n\u001b[1;31mSyntaxError\u001b[0m\u001b[1;31m:\u001b[0m invalid syntax\n"
     ]
    }
   ],
   "source": [
    "cap=cv2.VideoCapture(https://www.youtube.com/watch?v=wpHj0Uy9NXI&list=PLuo9pQBhyjG6M5crGFlksWzxC3C3ZgQ1o&index=7)"
   ]
  },
  {
   "cell_type": "code",
   "execution_count": null,
   "id": "26ebd3ba",
   "metadata": {},
   "outputs": [],
   "source": []
  }
 ],
 "metadata": {
  "kernelspec": {
   "display_name": "Python 3 (ipykernel)",
   "language": "python",
   "name": "python3"
  },
  "language_info": {
   "codemirror_mode": {
    "name": "ipython",
    "version": 3
   },
   "file_extension": ".py",
   "mimetype": "text/x-python",
   "name": "python",
   "nbconvert_exporter": "python",
   "pygments_lexer": "ipython3",
   "version": "3.10.5"
  }
 },
 "nbformat": 4,
 "nbformat_minor": 5
}
