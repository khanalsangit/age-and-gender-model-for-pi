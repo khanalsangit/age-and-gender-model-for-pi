{
 "cells": [
  {
   "cell_type": "code",
   "execution_count": 1,
   "id": "b301d08b",
   "metadata": {},
   "outputs": [],
   "source": [
    "from keras.models import load_model\n",
    "from time import sleep\n",
    "from tensorflow.keras.utils import img_to_array\n",
    "# from keras.preprocessing.image import img_to_array\n",
    "from keras.preprocessing import image\n",
    "import cv2\n",
    "import numpy as np\n",
    "import tensorflow as tf\n",
    "# from keras.preprocessing.image import img_to_array\n",
    "# import cv2\n",
    "# from tflite_runtime.interpreter import Interpreter\n",
    "# import numpy as np\n",
    "\n",
    "\n"
   ]
  },
  {
   "cell_type": "code",
   "execution_count": 2,
   "id": "6a567b4d",
   "metadata": {},
   "outputs": [],
   "source": [
    "face_classifier=cv2.CascadeClassifier(\"haarcascades_models/haarcascade_frontalface_default.xml\")"
   ]
  },
  {
   "cell_type": "code",
   "execution_count": 4,
   "id": "8c53fab7",
   "metadata": {},
   "outputs": [],
   "source": [
    "age_interpreter = tf.lite.Interpreter(model_path=\"age_detection_model_50epochs_no_opt.tflite\")\n",
    "age_interpreter.allocate_tensors()"
   ]
  },
  {
   "cell_type": "code",
   "execution_count": 5,
   "id": "807d8dce",
   "metadata": {},
   "outputs": [],
   "source": [
    "gender_interpreter = tf.lite.Interpreter(model_path=\"gender_detection_model_50epochs_no_opt.tflite\")\n",
    "gender_interpreter.allocate_tensors()\n"
   ]
  },
  {
   "cell_type": "code",
   "execution_count": 6,
   "id": "2f64b468",
   "metadata": {},
   "outputs": [],
   "source": [
    "\n",
    "age_input_details = age_interpreter.get_input_details()\n",
    "age_output_details = age_interpreter.get_output_details()"
   ]
  },
  {
   "cell_type": "code",
   "execution_count": 7,
   "id": "ec5e3374",
   "metadata": {},
   "outputs": [],
   "source": [
    "gender_input_details = gender_interpreter.get_input_details()\n",
    "gender_output_details = gender_interpreter.get_output_details()\n"
   ]
  },
  {
   "cell_type": "code",
   "execution_count": 8,
   "id": "37765cc1",
   "metadata": {},
   "outputs": [],
   "source": [
    "age_input_shape = age_input_details[0]['shape']\n",
    "gender_input_shape = gender_input_details[0]['shape']\n"
   ]
  },
  {
   "cell_type": "code",
   "execution_count": 9,
   "id": "20ce8919",
   "metadata": {},
   "outputs": [],
   "source": [
    "gender_labels = ['Male', 'Female']"
   ]
  },
  {
   "cell_type": "code",
   "execution_count": 10,
   "id": "ade8e4a0",
   "metadata": {},
   "outputs": [],
   "source": [
    "cap=cv2.VideoCapture(0)"
   ]
  },
  {
   "cell_type": "code",
   "execution_count": 12,
   "id": "cdbedb52",
   "metadata": {},
   "outputs": [],
   "source": [
    "\n",
    "while True:\n",
    "    ret,frame=cap.read()\n",
    "    labels=[]\n",
    "    \n",
    "    gray=cv2.cvtColor(frame,cv2.COLOR_BGR2GRAY)\n",
    "    faces=face_classifier.detectMultiScale(gray,1.3,5)\n",
    "    \n",
    "\n",
    "    for (x,y,w,h) in faces:\n",
    "        cv2.rectangle(frame,(x,y),(x+w,y+h),(255,0,0),2)\n",
    "       \n",
    "        #Gender\n",
    "        roi_color=frame[y:y+h,x:x+w]\n",
    "        roi_color=cv2.resize(roi_color,(200,200),interpolation=cv2.INTER_AREA)\n",
    "        roi_color = np.array(roi_color).reshape(-1,200,200,3) #input shape is (1, 200,200,3)\n",
    "        roi_color = roi_color.astype(np.float32)\n",
    "        \n",
    "        gender_interpreter.set_tensor(gender_input_details[0]['index'], roi_color)\n",
    "        gender_interpreter.invoke()\n",
    "        gender_preds = gender_interpreter.get_tensor(gender_output_details[0]['index'])\n",
    "        \n",
    "        \n",
    "        #gender_predict = gender_model.predict(np.array(roi_color).reshape(-1,200,200,3))\n",
    "        gender_predict = (gender_preds>= 0.5).astype(int)[:,0]\n",
    "        gender_label=gender_labels[gender_predict[0]] \n",
    "        gender_label_position=(x,y+h+50) #50 pixels below to move the label outside the face\n",
    "        cv2.putText(frame,gender_label,gender_label_position,cv2.FONT_HERSHEY_SIMPLEX,1,(0,255,0),2)\n",
    "        \n",
    "        #Age\n",
    "        \n",
    "        age_interpreter.set_tensor(age_input_details[0]['index'], roi_color)\n",
    "        age_interpreter.invoke()\n",
    "        age_preds = age_interpreter.get_tensor(age_output_details[0]['index'])\n",
    "        \n",
    "        #age_predict = age_model.predict(np.array(roi_color).reshape(-1,200,200,3))\n",
    "        age = round(age_preds[0,0])\n",
    "        age_label_position=(x+h,y+h)\n",
    "        cv2.putText(frame,\"Age=\"+str(age),age_label_position,cv2.FONT_HERSHEY_SIMPLEX,1,(0,255,0),2)\n",
    "        \n",
    "    \n",
    "    \n",
    "    cv2.imshow('Detector', frame)\n",
    "    if cv2.waitKey(1) & 0xFF == ord('q'):  #Press q to exit\n",
    "        break\n",
    "cap.release()\n",
    "cv2.destroyAllWindows()"
   ]
  },
  {
   "cell_type": "code",
   "execution_count": null,
   "id": "f6c3d151",
   "metadata": {},
   "outputs": [],
   "source": []
  }
 ],
 "metadata": {
  "kernelspec": {
   "display_name": "Python 3 (ipykernel)",
   "language": "python",
   "name": "python3"
  },
  "language_info": {
   "codemirror_mode": {
    "name": "ipython",
    "version": 3
   },
   "file_extension": ".py",
   "mimetype": "text/x-python",
   "name": "python",
   "nbconvert_exporter": "python",
   "pygments_lexer": "ipython3",
   "version": "3.10.5"
  }
 },
 "nbformat": 4,
 "nbformat_minor": 5
}
