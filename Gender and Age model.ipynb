{
 "cells": [
  {
   "cell_type": "code",
   "execution_count": 1,
   "id": "871f6186",
   "metadata": {},
   "outputs": [],
   "source": [
    "#Train deep learning models to predict age and gender.\n",
    "#loading required library\n",
    "\n",
    "import pandas as pd\n",
    "import numpy as np\n",
    "import os\n",
    "import matplotlib.pyplot as plt\n",
    "import cv2\n",
    "from keras.models import Sequential,load_model,Model\n",
    "from keras.layers import Conv2D,MaxPool2D,Dense,Dropout,BatchNormalization,Flatten,Input\n",
    "from sklearn.model_selection import train_test_split\n"
   ]
  },
  {
   "cell_type": "code",
   "execution_count": 2,
   "id": "02c59d0b",
   "metadata": {},
   "outputs": [],
   "source": [
    "#loading UTK dataset and spiliting to age and gender set for training the model\n",
    "\n",
    "path = \"D:/finalProject/Age-Gender/Creato/UTKFace\"\n",
    "images = []\n",
    "age = []\n",
    "gender = []\n",
    "for img in os.listdir(path):\n",
    "  ages = img.split(\"_\")[0]\n",
    "  genders = img.split(\"_\")[1]\n",
    "  img = cv2.imread(str(path)+\"/\"+str(img))\n",
    "  img = cv2.cvtColor(img,cv2.COLOR_BGR2RGB)\n",
    "  images.append(np.array(img))\n",
    "  age.append(np.array(ages))\n",
    "  gender.append(np.array(genders))"
   ]
  },
  {
   "cell_type": "code",
   "execution_count": 3,
   "id": "597ca676",
   "metadata": {},
   "outputs": [
    {
     "data": {
      "text/plain": [
       "23708"
      ]
     },
     "execution_count": 3,
     "metadata": {},
     "output_type": "execute_result"
    }
   ],
   "source": [
    "len(gender)"
   ]
  },
  {
   "cell_type": "code",
   "execution_count": 3,
   "id": "040615a4",
   "metadata": {},
   "outputs": [],
   "source": [
    "age = np.array(age,dtype=np.int64)\n",
    "images = np.array(images)  \n",
    "gender = np.array(gender,np.uint64)"
   ]
  },
  {
   "cell_type": "code",
   "execution_count": 4,
   "id": "e2fa9ed7",
   "metadata": {},
   "outputs": [],
   "source": [
    "#Train and test spiliting of dataset for age and gender model\n",
    "\n",
    "x_train_age, x_test_age, y_train_age, y_test_age = train_test_split(images, age, test_size=0.35, random_state=42)\n",
    "\n",
    "x_train_gender, x_test_gender, y_train_gender, y_test_gender = train_test_split(images, gender, test_size=0.35, random_state=42)\n"
   ]
  },
  {
   "cell_type": "code",
   "execution_count": 8,
   "id": "4926f50b",
   "metadata": {},
   "outputs": [
    {
     "name": "stdout",
     "output_type": "stream",
     "text": [
      "Epoch 1/50\n",
      "482/482 [==============================] - 916s 2s/step - loss: 1.3350 - accuracy: 0.6802 - val_loss: 0.5017 - val_accuracy: 0.7563\n",
      "Epoch 2/50\n",
      "482/482 [==============================] - 889s 2s/step - loss: 0.4653 - accuracy: 0.7831 - val_loss: 0.3991 - val_accuracy: 0.8183\n",
      "Epoch 3/50\n",
      "482/482 [==============================] - 887s 2s/step - loss: 0.3970 - accuracy: 0.8166 - val_loss: 0.3537 - val_accuracy: 0.8402\n",
      "Epoch 4/50\n",
      "482/482 [==============================] - 887s 2s/step - loss: 0.3588 - accuracy: 0.8319 - val_loss: 0.3282 - val_accuracy: 0.8535\n",
      "Epoch 5/50\n",
      "482/482 [==============================] - 886s 2s/step - loss: 0.3386 - accuracy: 0.8469 - val_loss: 0.3340 - val_accuracy: 0.8444\n",
      "Epoch 6/50\n",
      "482/482 [==============================] - 883s 2s/step - loss: 0.3182 - accuracy: 0.8598 - val_loss: 0.3192 - val_accuracy: 0.8567\n",
      "Epoch 7/50\n",
      "482/482 [==============================] - 897s 2s/step - loss: 0.3076 - accuracy: 0.8629 - val_loss: 0.3169 - val_accuracy: 0.8566\n",
      "Epoch 8/50\n",
      "482/482 [==============================] - 1545s 3s/step - loss: 0.3009 - accuracy: 0.8695 - val_loss: 0.3308 - val_accuracy: 0.8500\n",
      "Epoch 9/50\n",
      "482/482 [==============================] - 886s 2s/step - loss: 0.2870 - accuracy: 0.8753 - val_loss: 0.3238 - val_accuracy: 0.8500\n",
      "Epoch 10/50\n",
      "482/482 [==============================] - 884s 2s/step - loss: 0.2821 - accuracy: 0.8768 - val_loss: 0.3396 - val_accuracy: 0.8443\n",
      "Epoch 11/50\n",
      "482/482 [==============================] - 881s 2s/step - loss: 0.2805 - accuracy: 0.8764 - val_loss: 0.2985 - val_accuracy: 0.8666\n",
      "Epoch 12/50\n",
      "482/482 [==============================] - 884s 2s/step - loss: 0.2684 - accuracy: 0.8798 - val_loss: 0.2916 - val_accuracy: 0.8727\n",
      "Epoch 13/50\n",
      "482/482 [==============================] - 883s 2s/step - loss: 0.2659 - accuracy: 0.8829 - val_loss: 0.2983 - val_accuracy: 0.8650\n",
      "Epoch 14/50\n",
      "482/482 [==============================] - 883s 2s/step - loss: 0.2610 - accuracy: 0.8840 - val_loss: 0.3116 - val_accuracy: 0.8645\n",
      "Epoch 15/50\n",
      "482/482 [==============================] - 880s 2s/step - loss: 0.2560 - accuracy: 0.8867 - val_loss: 0.3125 - val_accuracy: 0.8623\n",
      "Epoch 16/50\n",
      "482/482 [==============================] - 886s 2s/step - loss: 0.2586 - accuracy: 0.8849 - val_loss: 0.3289 - val_accuracy: 0.8477\n",
      "Epoch 17/50\n",
      "482/482 [==============================] - 884s 2s/step - loss: 0.2431 - accuracy: 0.8939 - val_loss: 0.2885 - val_accuracy: 0.8719\n",
      "Epoch 18/50\n",
      "482/482 [==============================] - 881s 2s/step - loss: 0.2415 - accuracy: 0.8966 - val_loss: 0.2952 - val_accuracy: 0.8713\n",
      "Epoch 19/50\n",
      "482/482 [==============================] - 882s 2s/step - loss: 0.2262 - accuracy: 0.9027 - val_loss: 0.2996 - val_accuracy: 0.8648\n",
      "Epoch 20/50\n",
      "482/482 [==============================] - 880s 2s/step - loss: 0.2267 - accuracy: 0.9040 - val_loss: 0.3125 - val_accuracy: 0.8635\n",
      "Epoch 21/50\n",
      "482/482 [==============================] - 880s 2s/step - loss: 0.2175 - accuracy: 0.9073 - val_loss: 0.3060 - val_accuracy: 0.8796\n",
      "Epoch 22/50\n",
      "482/482 [==============================] - 880s 2s/step - loss: 0.2170 - accuracy: 0.9058 - val_loss: 0.3011 - val_accuracy: 0.8774\n",
      "Epoch 23/50\n",
      "482/482 [==============================] - 881s 2s/step - loss: 0.2147 - accuracy: 0.9085 - val_loss: 0.2957 - val_accuracy: 0.8774\n",
      "Epoch 24/50\n",
      "482/482 [==============================] - 881s 2s/step - loss: 0.2065 - accuracy: 0.9104 - val_loss: 0.3074 - val_accuracy: 0.8721\n",
      "Epoch 25/50\n",
      "482/482 [==============================] - 889s 2s/step - loss: 0.2059 - accuracy: 0.9109 - val_loss: 0.3218 - val_accuracy: 0.8806\n",
      "Epoch 26/50\n",
      "482/482 [==============================] - 882s 2s/step - loss: 0.1971 - accuracy: 0.9146 - val_loss: 0.2877 - val_accuracy: 0.8783\n",
      "Epoch 27/50\n",
      "482/482 [==============================] - 878s 2s/step - loss: 0.1906 - accuracy: 0.9182 - val_loss: 0.2794 - val_accuracy: 0.8807\n",
      "Epoch 28/50\n",
      "482/482 [==============================] - 881s 2s/step - loss: 0.1887 - accuracy: 0.9186 - val_loss: 0.3287 - val_accuracy: 0.8665\n",
      "Epoch 29/50\n",
      "482/482 [==============================] - 883s 2s/step - loss: 0.1760 - accuracy: 0.9245 - val_loss: 0.3264 - val_accuracy: 0.8815\n",
      "Epoch 30/50\n",
      "482/482 [==============================] - 879s 2s/step - loss: 0.1712 - accuracy: 0.9245 - val_loss: 0.3305 - val_accuracy: 0.8762\n",
      "Epoch 31/50\n",
      "482/482 [==============================] - 880s 2s/step - loss: 0.1721 - accuracy: 0.9269 - val_loss: 0.3014 - val_accuracy: 0.8788\n",
      "Epoch 32/50\n",
      "482/482 [==============================] - 921s 2s/step - loss: 0.1808 - accuracy: 0.9217 - val_loss: 0.3124 - val_accuracy: 0.8818\n",
      "Epoch 33/50\n",
      "482/482 [==============================] - 905s 2s/step - loss: 0.1883 - accuracy: 0.9238 - val_loss: 0.3316 - val_accuracy: 0.8770\n",
      "Epoch 34/50\n",
      "482/482 [==============================] - 883s 2s/step - loss: 0.1670 - accuracy: 0.9287 - val_loss: 0.3412 - val_accuracy: 0.8730\n",
      "Epoch 35/50\n",
      "482/482 [==============================] - 899s 2s/step - loss: 0.1657 - accuracy: 0.9301 - val_loss: 0.3707 - val_accuracy: 0.8703\n",
      "Epoch 36/50\n",
      "482/482 [==============================] - 882s 2s/step - loss: 0.1523 - accuracy: 0.9356 - val_loss: 0.3492 - val_accuracy: 0.8721\n",
      "Epoch 37/50\n",
      "482/482 [==============================] - 883s 2s/step - loss: 0.1555 - accuracy: 0.9354 - val_loss: 0.3251 - val_accuracy: 0.8800\n",
      "Epoch 38/50\n",
      "482/482 [==============================] - 882s 2s/step - loss: 0.1439 - accuracy: 0.9378 - val_loss: 0.3372 - val_accuracy: 0.8762\n",
      "Epoch 39/50\n",
      "482/482 [==============================] - 882s 2s/step - loss: 0.1444 - accuracy: 0.9389 - val_loss: 0.4069 - val_accuracy: 0.8726\n",
      "Epoch 40/50\n",
      "482/482 [==============================] - 883s 2s/step - loss: 0.1435 - accuracy: 0.9376 - val_loss: 0.3678 - val_accuracy: 0.8766\n",
      "Epoch 41/50\n",
      "482/482 [==============================] - 883s 2s/step - loss: 0.1519 - accuracy: 0.9348 - val_loss: 0.3887 - val_accuracy: 0.8738\n",
      "Epoch 42/50\n",
      "482/482 [==============================] - 882s 2s/step - loss: 0.1440 - accuracy: 0.9388 - val_loss: 0.3449 - val_accuracy: 0.8779\n",
      "Epoch 43/50\n",
      "482/482 [==============================] - 882s 2s/step - loss: 0.1366 - accuracy: 0.9424 - val_loss: 0.3764 - val_accuracy: 0.8730\n",
      "Epoch 44/50\n",
      "482/482 [==============================] - 880s 2s/step - loss: 0.1350 - accuracy: 0.9440 - val_loss: 0.3670 - val_accuracy: 0.8784\n",
      "Epoch 45/50\n",
      "482/482 [==============================] - 884s 2s/step - loss: 0.1402 - accuracy: 0.9406 - val_loss: 0.4251 - val_accuracy: 0.8777\n",
      "Epoch 46/50\n",
      "482/482 [==============================] - 880s 2s/step - loss: 0.1332 - accuracy: 0.9432 - val_loss: 0.4206 - val_accuracy: 0.8778\n",
      "Epoch 47/50\n",
      "482/482 [==============================] - 883s 2s/step - loss: 0.1270 - accuracy: 0.9472 - val_loss: 0.3911 - val_accuracy: 0.8802\n",
      "Epoch 48/50\n",
      "482/482 [==============================] - 881s 2s/step - loss: 0.1306 - accuracy: 0.9448 - val_loss: 0.3803 - val_accuracy: 0.8778\n",
      "Epoch 49/50\n",
      "482/482 [==============================] - 882s 2s/step - loss: 0.1191 - accuracy: 0.9489 - val_loss: 0.4072 - val_accuracy: 0.8786\n",
      "Epoch 50/50\n",
      "482/482 [==============================] - 880s 2s/step - loss: 0.1222 - accuracy: 0.9485 - val_loss: 0.3851 - val_accuracy: 0.8733\n"
     ]
    }
   ],
   "source": [
    "#training of gender model\n",
    "\n",
    "gender_model = Sequential()\n",
    "\n",
    "gender_model.add(Conv2D(36, kernel_size=3, activation='relu', input_shape=(200,200,3)))\n",
    "\n",
    "gender_model.add(MaxPool2D(pool_size=3, strides=2))\n",
    "gender_model.add(Conv2D(64, kernel_size=3, activation='relu'))\n",
    "gender_model.add(MaxPool2D(pool_size=3, strides=2))\n",
    "\n",
    "gender_model.add(Conv2D(128, kernel_size=3, activation='relu'))\n",
    "gender_model.add(MaxPool2D(pool_size=3, strides=2))\n",
    "\n",
    "gender_model.add(Conv2D(256, kernel_size=3, activation='relu'))\n",
    "gender_model.add(MaxPool2D(pool_size=3, strides=2))\n",
    "\n",
    "gender_model.add(Conv2D(512, kernel_size=3, activation='relu'))\n",
    "gender_model.add(MaxPool2D(pool_size=3, strides=2))\n",
    "\n",
    "gender_model.add(Flatten())\n",
    "gender_model.add(Dropout(0.2))\n",
    "gender_model.add(Dense(512, activation='relu'))\n",
    "gender_model.add(Dense(1, activation='sigmoid', name='gender'))\n",
    "\n",
    "gender_model.compile(optimizer='adam', loss='binary_crossentropy', metrics=['accuracy'])\n",
    "\n",
    "history_gender = gender_model.fit(x_train_gender, y_train_gender,\n",
    "                        validation_data=(x_test_gender, y_test_gender), epochs=50)\n",
    "\n",
    "gender_model.save('gender_model_50epochs.h5')\n"
   ]
  },
  {
   "cell_type": "code",
   "execution_count": 12,
   "id": "4ebe610d",
   "metadata": {},
   "outputs": [
    {
     "name": "stdout",
     "output_type": "stream",
     "text": [
      "Model: \"sequential\"\n",
      "_________________________________________________________________\n",
      " Layer (type)                Output Shape              Param #   \n",
      "=================================================================\n",
      " conv2d (Conv2D)             (None, 198, 198, 36)      1008      \n",
      "                                                                 \n",
      " max_pooling2d (MaxPooling2D  (None, 98, 98, 36)       0         \n",
      " )                                                               \n",
      "                                                                 \n",
      " conv2d_1 (Conv2D)           (None, 96, 96, 64)        20800     \n",
      "                                                                 \n",
      " max_pooling2d_1 (MaxPooling  (None, 47, 47, 64)       0         \n",
      " 2D)                                                             \n",
      "                                                                 \n",
      " conv2d_2 (Conv2D)           (None, 45, 45, 128)       73856     \n",
      "                                                                 \n",
      " max_pooling2d_2 (MaxPooling  (None, 22, 22, 128)      0         \n",
      " 2D)                                                             \n",
      "                                                                 \n",
      " conv2d_3 (Conv2D)           (None, 20, 20, 256)       295168    \n",
      "                                                                 \n",
      " max_pooling2d_3 (MaxPooling  (None, 9, 9, 256)        0         \n",
      " 2D)                                                             \n",
      "                                                                 \n",
      " conv2d_4 (Conv2D)           (None, 7, 7, 512)         1180160   \n",
      "                                                                 \n",
      " max_pooling2d_4 (MaxPooling  (None, 3, 3, 512)        0         \n",
      " 2D)                                                             \n",
      "                                                                 \n",
      " flatten (Flatten)           (None, 4608)              0         \n",
      "                                                                 \n",
      " dropout (Dropout)           (None, 4608)              0         \n",
      "                                                                 \n",
      " dense (Dense)               (None, 512)               2359808   \n",
      "                                                                 \n",
      " gender (Dense)              (None, 1)                 513       \n",
      "                                                                 \n",
      "=================================================================\n",
      "Total params: 3,931,313\n",
      "Trainable params: 3,931,313\n",
      "Non-trainable params: 0\n",
      "_________________________________________________________________\n",
      "None\n"
     ]
    }
   ],
   "source": [
    "print(gender_model.summary())"
   ]
  },
  {
   "cell_type": "code",
   "execution_count": 9,
   "id": "caf4cb7f",
   "metadata": {},
   "outputs": [
    {
     "data": {
      "image/png": "[encoded data removed]",
      "text/plain": [
       "<Figure size 432x288 with 1 Axes>"
      ]
     },
     "metadata": {
      "needs_background": "light"
     },
     "output_type": "display_data"
    }
   ],
   "source": [
    "\n",
    "history = history_gender\n",
    "\n",
    "#plot the training and validation accuracy and loss at each epoch\n",
    "\n",
    "loss = history.history['loss']\n",
    "val_loss = history.history['val_loss']\n",
    "epochs = range(1, len(loss) + 1)\n",
    "plt.plot(epochs, loss, 'y', label='Training loss')\n",
    "plt.plot(epochs, val_loss, 'r', label='Validation loss')\n",
    "plt.title('Training and validation loss')\n",
    "plt.xlabel('Epochs')\n",
    "plt.ylabel('Loss')\n",
    "plt.legend()\n",
    "plt.show()"
   ]
  },
  {
   "cell_type": "code",
   "execution_count": 10,
   "id": "548cee73",
   "metadata": {},
   "outputs": [
    {
     "data": {
      "image/png": "[encoded data removed]",
      "text/plain": [
       "<Figure size 432x288 with 1 Axes>"
      ]
     },
     "metadata": {
      "needs_background": "light"
     },
     "output_type": "display_data"
    }
   ],
   "source": [
    "acc = history.history['accuracy']\n",
    "val_acc = history.history['val_accuracy']\n",
    "\n",
    "\n",
    "plt.plot(epochs, acc, 'y', label='Training acc')\n",
    "plt.plot(epochs, val_acc, 'r', label='Validation acc')\n",
    "plt.title('Training and validation accuracy')\n",
    "plt.xlabel('Epochs')\n",
    "plt.ylabel('Accuracy')\n",
    "plt.legend()\n",
    "plt.show()"
   ]
  },
  {
   "cell_type": "code",
   "execution_count": 11,
   "id": "58d06c48",
   "metadata": {},
   "outputs": [
    {
     "name": "stdout",
     "output_type": "stream",
     "text": [
      "260/260 [==============================] - 71s 272ms/step\n",
      "Accuracy =  0.8733429742106532\n"
     ]
    },
    {
     "data": {
      "text/plain": [
       "<AxesSubplot:>"
      ]
     },
     "execution_count": 11,
     "metadata": {},
     "output_type": "execute_result"
    },
    {
     "data": {
      "image/png": "[encoded data removed]",
      "text/plain": [
       "<Figure size 432x288 with 2 Axes>"
      ]
     },
     "metadata": {
      "needs_background": "light"
     },
     "output_type": "display_data"
    }
   ],
   "source": [
    "from keras.models import load_model\n",
    "#Test the model\n",
    "my_model = load_model('age_model_50epochs.h5', compile=False)\n",
    "\n",
    "\n",
    "predictions = my_model.predict(x_test_gender)\n",
    "y_pred = (predictions>= 0.5).astype(int)[:,0]\n",
    "\n",
    "from sklearn import metrics\n",
    "print (\"Accuracy = \", metrics.accuracy_score(y_test_gender, y_pred))\n",
    "\n",
    "#Confusion Matrix - verify accuracy of each class\n",
    "from sklearn.metrics import confusion_matrix\n",
    "import seaborn as sns\n",
    "cm=confusion_matrix(y_test_gender, y_pred)  \n",
    "sns.heatmap(cm, annot=True)\n"
   ]
  },
  {
   "cell_type": "code",
   "execution_count": 5,
   "id": "b7badd21",
   "metadata": {},
   "outputs": [
    {
     "name": "stdout",
     "output_type": "stream",
     "text": [
      "Model: \"sequential\"\n",
      "_________________________________________________________________\n",
      " Layer (type)                Output Shape              Param #   \n",
      "=================================================================\n",
      " conv2d (Conv2D)             (None, 198, 198, 36)      1008      \n",
      "                                                                 \n",
      " max_pooling2d (MaxPooling2D  (None, 98, 98, 36)       0         \n",
      " )                                                               \n",
      "                                                                 \n",
      " conv2d_1 (Conv2D)           (None, 96, 96, 64)        20800     \n",
      "                                                                 \n",
      " max_pooling2d_1 (MaxPooling  (None, 47, 47, 64)       0         \n",
      " 2D)                                                             \n",
      "                                                                 \n",
      " conv2d_2 (Conv2D)           (None, 45, 45, 128)       73856     \n",
      "                                                                 \n",
      " max_pooling2d_2 (MaxPooling  (None, 22, 22, 128)      0         \n",
      " 2D)                                                             \n",
      "                                                                 \n",
      " conv2d_3 (Conv2D)           (None, 20, 20, 512)       590336    \n",
      "                                                                 \n",
      " max_pooling2d_3 (MaxPooling  (None, 9, 9, 512)        0         \n",
      " 2D)                                                             \n",
      "                                                                 \n",
      " flatten (Flatten)           (None, 41472)             0         \n",
      "                                                                 \n",
      " dropout (Dropout)           (None, 41472)             0         \n",
      "                                                                 \n",
      " dense (Dense)               (None, 512)               21234176  \n",
      "                                                                 \n",
      " age (Dense)                 (None, 1)                 513       \n",
      "                                                                 \n",
      "=================================================================\n",
      "Total params: 21,920,689\n",
      "Trainable params: 21,920,689\n",
      "Non-trainable params: 0\n",
      "_________________________________________________________________\n",
      "None\n",
      "Epoch 1/50\n",
      "241/241 [==============================] - 966s 4s/step - loss: 100832.6719 - mae: 37.2956 - val_loss: 258.1415 - val_mae: 12.0515\n",
      "Epoch 2/50\n",
      "241/241 [==============================] - 940s 4s/step - loss: 243.6722 - mae: 11.7970 - val_loss: 236.8619 - val_mae: 12.5109\n",
      "Epoch 3/50\n",
      "241/241 [==============================] - 913s 4s/step - loss: 212.1502 - mae: 10.9472 - val_loss: 185.9383 - val_mae: 10.6686\n",
      "Epoch 4/50\n",
      "241/241 [==============================] - 909s 4s/step - loss: 181.4626 - mae: 10.0513 - val_loss: 152.6854 - val_mae: 9.2936\n",
      "Epoch 5/50\n",
      "241/241 [==============================] - 904s 4s/step - loss: 158.4980 - mae: 9.3626 - val_loss: 144.7693 - val_mae: 9.1220\n",
      "Epoch 6/50\n",
      "241/241 [==============================] - 917s 4s/step - loss: 145.1293 - mae: 8.9684 - val_loss: 132.5558 - val_mae: 8.5157\n",
      "Epoch 7/50\n",
      "241/241 [==============================] - 904s 4s/step - loss: 138.7829 - mae: 8.7682 - val_loss: 135.7071 - val_mae: 8.4610\n",
      "Epoch 8/50\n",
      "241/241 [==============================] - 909s 4s/step - loss: 129.6138 - mae: 8.4767 - val_loss: 132.2258 - val_mae: 8.6319\n",
      "Epoch 9/50\n",
      "241/241 [==============================] - 904s 4s/step - loss: 121.6443 - mae: 8.1803 - val_loss: 125.2860 - val_mae: 8.4519\n",
      "Epoch 10/50\n",
      "241/241 [==============================] - 901s 4s/step - loss: 112.4131 - mae: 7.8896 - val_loss: 143.3813 - val_mae: 8.6262\n",
      "Epoch 11/50\n",
      "241/241 [==============================] - 904s 4s/step - loss: 107.8056 - mae: 7.7429 - val_loss: 117.3340 - val_mae: 7.8937\n",
      "Epoch 12/50\n",
      "241/241 [==============================] - 916s 4s/step - loss: 99.4847 - mae: 7.4228 - val_loss: 116.7992 - val_mae: 8.1109\n",
      "Epoch 13/50\n",
      "241/241 [==============================] - 906s 4s/step - loss: 96.4000 - mae: 7.3179 - val_loss: 111.5688 - val_mae: 7.7247\n",
      "Epoch 14/50\n",
      "241/241 [==============================] - 905s 4s/step - loss: 94.6573 - mae: 7.2604 - val_loss: 117.4993 - val_mae: 7.8722\n",
      "Epoch 15/50\n",
      "241/241 [==============================] - 906s 4s/step - loss: 89.7921 - mae: 7.0727 - val_loss: 107.4410 - val_mae: 7.6541\n",
      "Epoch 16/50\n",
      "241/241 [==============================] - 912s 4s/step - loss: 85.8765 - mae: 6.9150 - val_loss: 112.8314 - val_mae: 7.6520\n",
      "Epoch 17/50\n",
      "241/241 [==============================] - 908s 4s/step - loss: 80.7796 - mae: 6.7074 - val_loss: 107.1069 - val_mae: 7.4821\n",
      "Epoch 18/50\n",
      "241/241 [==============================] - 908s 4s/step - loss: 82.0363 - mae: 6.7799 - val_loss: 117.1564 - val_mae: 8.3009\n",
      "Epoch 19/50\n",
      "241/241 [==============================] - 904s 4s/step - loss: 79.6804 - mae: 6.6739 - val_loss: 109.4821 - val_mae: 7.6008\n",
      "Epoch 20/50\n",
      "241/241 [==============================] - 909s 4s/step - loss: 74.3129 - mae: 6.4392 - val_loss: 104.0541 - val_mae: 7.4811\n",
      "Epoch 21/50\n",
      "241/241 [==============================] - 905s 4s/step - loss: 72.1610 - mae: 6.3631 - val_loss: 100.4354 - val_mae: 7.2683\n",
      "Epoch 22/50\n",
      "241/241 [==============================] - 907s 4s/step - loss: 66.8300 - mae: 6.1253 - val_loss: 100.5855 - val_mae: 7.3546\n",
      "Epoch 23/50\n",
      "241/241 [==============================] - 905s 4s/step - loss: 68.3371 - mae: 6.2022 - val_loss: 104.1849 - val_mae: 7.3851\n",
      "Epoch 24/50\n",
      "241/241 [==============================] - 911s 4s/step - loss: 62.9415 - mae: 5.9599 - val_loss: 105.8982 - val_mae: 7.6399\n",
      "Epoch 25/50\n",
      "241/241 [==============================] - 908s 4s/step - loss: 62.0824 - mae: 5.9306 - val_loss: 103.2238 - val_mae: 7.2892\n",
      "Epoch 26/50\n",
      "241/241 [==============================] - 905s 4s/step - loss: 63.8616 - mae: 5.9841 - val_loss: 107.1858 - val_mae: 7.6744\n",
      "Epoch 27/50\n",
      "241/241 [==============================] - 906s 4s/step - loss: 57.1797 - mae: 5.6693 - val_loss: 102.4357 - val_mae: 7.3056\n",
      "Epoch 28/50\n",
      "241/241 [==============================] - 907s 4s/step - loss: 55.9264 - mae: 5.6165 - val_loss: 99.2507 - val_mae: 7.1686\n",
      "Epoch 29/50\n",
      "241/241 [==============================] - 905s 4s/step - loss: 56.4254 - mae: 5.6245 - val_loss: 108.0322 - val_mae: 7.4120\n",
      "Epoch 30/50\n",
      "241/241 [==============================] - 907s 4s/step - loss: 54.0127 - mae: 5.5423 - val_loss: 118.3531 - val_mae: 8.2300\n",
      "Epoch 31/50\n",
      "241/241 [==============================] - 907s 4s/step - loss: 53.5502 - mae: 5.5102 - val_loss: 98.3345 - val_mae: 7.1138\n",
      "Epoch 32/50\n",
      "241/241 [==============================] - 911s 4s/step - loss: 46.7675 - mae: 5.1782 - val_loss: 104.9768 - val_mae: 7.2810\n",
      "Epoch 33/50\n",
      "241/241 [==============================] - 910s 4s/step - loss: 49.5095 - mae: 5.2990 - val_loss: 96.2845 - val_mae: 7.0420\n",
      "Epoch 34/50\n",
      "241/241 [==============================] - 911s 4s/step - loss: 44.7836 - mae: 5.0274 - val_loss: 98.1615 - val_mae: 7.0482\n",
      "Epoch 35/50\n",
      "241/241 [==============================] - 907s 4s/step - loss: 46.0184 - mae: 5.1367 - val_loss: 98.6566 - val_mae: 7.2161\n",
      "Epoch 36/50\n",
      "241/241 [==============================] - 908s 4s/step - loss: 44.1578 - mae: 5.0329 - val_loss: 96.3304 - val_mae: 7.2609\n",
      "Epoch 37/50\n",
      "241/241 [==============================] - 916s 4s/step - loss: 42.5766 - mae: 4.9346 - val_loss: 100.5448 - val_mae: 7.3571\n",
      "Epoch 38/50\n",
      "241/241 [==============================] - 910s 4s/step - loss: 43.4174 - mae: 4.9935 - val_loss: 108.1464 - val_mae: 7.3483\n",
      "Epoch 39/50\n",
      "241/241 [==============================] - 905s 4s/step - loss: 42.2982 - mae: 4.9133 - val_loss: 111.1300 - val_mae: 7.4951\n",
      "Epoch 40/50\n",
      "241/241 [==============================] - 940s 4s/step - loss: 46.4151 - mae: 5.1332 - val_loss: 96.0944 - val_mae: 7.1285\n",
      "Epoch 41/50\n",
      "241/241 [==============================] - 918s 4s/step - loss: 41.3225 - mae: 4.8553 - val_loss: 97.6206 - val_mae: 7.1646\n",
      "Epoch 42/50\n",
      "241/241 [==============================] - 911s 4s/step - loss: 39.1635 - mae: 4.7573 - val_loss: 103.0422 - val_mae: 7.1680\n",
      "Epoch 43/50\n",
      "241/241 [==============================] - 912s 4s/step - loss: 39.2904 - mae: 4.7647 - val_loss: 101.0897 - val_mae: 7.1301\n",
      "Epoch 44/50\n",
      "241/241 [==============================] - 920s 4s/step - loss: 42.0094 - mae: 4.8679 - val_loss: 95.6142 - val_mae: 7.0606\n",
      "Epoch 45/50\n",
      "241/241 [==============================] - 910s 4s/step - loss: 38.2654 - mae: 4.6881 - val_loss: 104.4422 - val_mae: 7.2466\n",
      "Epoch 46/50\n",
      "241/241 [==============================] - 913s 4s/step - loss: 38.0929 - mae: 4.6824 - val_loss: 98.4536 - val_mae: 7.1171\n",
      "Epoch 47/50\n",
      "241/241 [==============================] - 913s 4s/step - loss: 34.6528 - mae: 4.4534 - val_loss: 104.6303 - val_mae: 7.2200\n",
      "Epoch 48/50\n",
      "241/241 [==============================] - 915s 4s/step - loss: 33.3519 - mae: 4.3860 - val_loss: 112.1422 - val_mae: 7.4261\n",
      "Epoch 49/50\n",
      "241/241 [==============================] - 912s 4s/step - loss: 34.9267 - mae: 4.4657 - val_loss: 104.9000 - val_mae: 7.4560\n",
      "Epoch 50/50\n",
      "241/241 [==============================] - 915s 4s/step - loss: 35.4876 - mae: 4.4891 - val_loss: 94.2182 - val_mae: 7.0851\n"
     ]
    }
   ],
   "source": [
    "#Training of age model\n",
    "\n",
    "age_model = Sequential()\n",
    "age_model.add(Conv2D(36, kernel_size=3, activation='relu', input_shape=(200,200,3)))\n",
    "age_model.add(MaxPool2D(pool_size=3, strides=2))\n",
    "\n",
    "age_model.add(Conv2D(64, kernel_size=3, activation='relu'))\n",
    "age_model.add(MaxPool2D(pool_size=3, strides=2))\n",
    "              \n",
    "age_model.add(Conv2D(128, kernel_size=3, activation='relu'))\n",
    "age_model.add(MaxPool2D(pool_size=3, strides=2))\n",
    "\n",
    "age_model.add(Conv2D(512, kernel_size=3, activation='relu'))\n",
    "age_model.add(MaxPool2D(pool_size=3, strides=2))\n",
    "\n",
    "age_model.add(Flatten())\n",
    "age_model.add(Dropout(0.3))\n",
    "age_model.add(Dense(512, activation='relu'))\n",
    "\n",
    "age_model.add(Dense(1, activation='linear', name='age'))\n",
    "              \n",
    "age_model.compile(optimizer='adam', loss='mse', metrics=['mae'])\n",
    "print(age_model.summary())              \n",
    "                           \n",
    "history_age = age_model.fit(x_train_age, y_train_age, batch_size=64,\n",
    "                        validation_data=(x_test_age, y_test_age), epochs=50)\n",
    "\n",
    "age_model.save('age_model_50epochs.h5')\n"
   ]
  },
  {
   "cell_type": "code",
   "execution_count": 2,
   "id": "70a59980",
   "metadata": {},
   "outputs": [
    {
     "ename": "SyntaxError",
     "evalue": "Missing parentheses in call to 'print'. Did you mean print(...)? (908402389.py, line 1)",
     "output_type": "error",
     "traceback": [
      "\u001b[1;36m  Input \u001b[1;32mIn [2]\u001b[1;36m\u001b[0m\n\u001b[1;33m    print i\u001b[0m\n\u001b[1;37m    ^\u001b[0m\n\u001b[1;31mSyntaxError\u001b[0m\u001b[1;31m:\u001b[0m Missing parentheses in call to 'print'. Did you mean print(...)?\n"
     ]
    }
   ],
   "source": [
    "\n"
   ]
  },
  {
   "cell_type": "code",
   "execution_count": 2,
   "id": "7b5a1830",
   "metadata": {},
   "outputs": [
    {
     "ename": "NameError",
     "evalue": "name 'history_age' is not defined",
     "output_type": "error",
     "traceback": [
      "\u001b[1;31m---------------------------------------------------------------------------\u001b[0m",
      "\u001b[1;31mNameError\u001b[0m                                 Traceback (most recent call last)",
      "Input \u001b[1;32mIn [2]\u001b[0m, in \u001b[0;36m<cell line: 1>\u001b[1;34m()\u001b[0m\n\u001b[1;32m----> 1\u001b[0m history \u001b[38;5;241m=\u001b[39m \u001b[43mhistory_age\u001b[49m\n\u001b[0;32m      3\u001b[0m \u001b[38;5;66;03m#plot the training and validation accuracy and loss at each epoch\u001b[39;00m\n\u001b[0;32m      4\u001b[0m loss \u001b[38;5;241m=\u001b[39m history\u001b[38;5;241m.\u001b[39mhistory[\u001b[38;5;124m'\u001b[39m\u001b[38;5;124mloss\u001b[39m\u001b[38;5;124m'\u001b[39m]\n",
      "\u001b[1;31mNameError\u001b[0m: name 'history_age' is not defined"
     ]
    }
   ],
   "source": [
    "\n",
    "history = history_age\n",
    "\n",
    "#plot the training and validation loss at each epoch\n",
    "loss = history.history['loss']\n",
    "val_loss = history.history['val_loss']\n",
    "epochs = range(1, len(loss) + 1)\n",
    "plt.plot(epochs, loss, 'y', label='Training loss')\n",
    "plt.plot(epochs, val_loss, 'r', label='Validation loss')\n",
    "plt.title('Training and validation loss')\n",
    "plt.xlabel('Epochs')\n",
    "plt.ylabel('Loss')\n",
    "plt.legend()\n",
    "plt.show()"
   ]
  },
  {
   "cell_type": "code",
   "execution_count": 1,
   "id": "20374dc8",
   "metadata": {},
   "outputs": [
    {
     "ename": "NameError",
     "evalue": "name 'history' is not defined",
     "output_type": "error",
     "traceback": [
      "\u001b[1;31m---------------------------------------------------------------------------\u001b[0m",
      "\u001b[1;31mNameError\u001b[0m                                 Traceback (most recent call last)",
      "Input \u001b[1;32mIn [1]\u001b[0m, in \u001b[0;36m<cell line: 1>\u001b[1;34m()\u001b[0m\n\u001b[1;32m----> 1\u001b[0m acc \u001b[38;5;241m=\u001b[39m \u001b[43mhistory\u001b[49m\u001b[38;5;241m.\u001b[39mhistory[\u001b[38;5;124m'\u001b[39m\u001b[38;5;124mmae\u001b[39m\u001b[38;5;124m'\u001b[39m]\n\u001b[0;32m      2\u001b[0m \u001b[38;5;66;03m#acc = history.history['accuracy']\u001b[39;00m\n\u001b[0;32m      3\u001b[0m val_acc \u001b[38;5;241m=\u001b[39m history\u001b[38;5;241m.\u001b[39mhistory[\u001b[38;5;124m'\u001b[39m\u001b[38;5;124mval_mae\u001b[39m\u001b[38;5;124m'\u001b[39m]\n",
      "\u001b[1;31mNameError\u001b[0m: name 'history' is not defined"
     ]
    }
   ],
   "source": [
    "#plot of validation and training mae loss\n",
    "acc = history.history['mae']\n",
    "val_acc = history.history['val_mae']\n",
    "\n",
    "plt.plot(epochs, acc, 'y', label='Training')\n",
    "plt.plot(epochs, val_acc, 'r', label='Validation')\n",
    "plt.title('Training and validation')\n",
    "plt.xlabel('Epochs')\n",
    "plt.ylabel('mae')\n",
    "plt.legend()\n",
    "plt.show()\n"
   ]
  },
  {
   "cell_type": "code",
   "execution_count": null,
   "id": "06a702a9",
   "metadata": {},
   "outputs": [],
   "source": [
    "\n"
   ]
  }
 ],
 "metadata": {
  "kernelspec": {
   "display_name": "Python 3 (ipykernel)",
   "language": "python",
   "name": "python3"
  },
  "language_info": {
   "codemirror_mode": {
    "name": "ipython",
    "version": 3
   },
   "file_extension": ".py",
   "mimetype": "text/x-python",
   "name": "python",
   "nbconvert_exporter": "python",
   "pygments_lexer": "ipython3",
   "version": "3.10.5"
  }
 },
 "nbformat": 4,
 "nbformat_minor": 5
}
