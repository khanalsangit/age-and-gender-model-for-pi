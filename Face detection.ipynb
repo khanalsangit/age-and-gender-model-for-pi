{
 "cells": [
  {
   "cell_type": "code",
   "execution_count": 1,
   "id": "95aef2df",
   "metadata": {},
   "outputs": [],
   "source": [
    "#Face and eye detection using opencv (Haar Cascade classificaion)\n",
    "\n",
    "import numpy as np\n",
    "import cv2"
   ]
  },
  {
   "cell_type": "code",
   "execution_count": 2,
   "id": "94ab4a9b",
   "metadata": {},
   "outputs": [],
   "source": [
    "#loading pretrain model\n",
    "\n",
    "face_cascade = cv2.CascadeClassifier(\"D:/finalProject/Age-Gender/Creato/haarcascade_frontalface_default.xml\")\n",
    "eye_cascade = cv2.CascadeClassifier(\"D:/finalProject/Age-Gender/Creato/haarcascade_eye.xml\")\n"
   ]
  },
  {
   "cell_type": "code",
   "execution_count": 3,
   "id": "aed73057",
   "metadata": {},
   "outputs": [],
   "source": [
    "#loading image\n",
    "\n",
    "img = cv2.imread('multiple1.jpg')\n",
    "gray = cv2.cvtColor(img, cv2.COLOR_BGR2GRAY)\n"
   ]
  },
  {
   "cell_type": "code",
   "execution_count": 4,
   "id": "9c4de0ec",
   "metadata": {},
   "outputs": [],
   "source": [
    "#First detect face and then look for eyes inside the face.\n",
    "#Multiscale refers to detecting objects (faces) at multiple scales.\n",
    "\n",
    "faces = face_cascade.detectMultiScale(gray, 1.3, 5)"
   ]
  },
  {
   "cell_type": "code",
   "execution_count": 5,
   "id": "d0a023e1",
   "metadata": {},
   "outputs": [],
   "source": [
    "for (x,y,w,h) in faces:\n",
    "    img = cv2.rectangle(img,(x,y),(x+w,y+h),(255,0,0),2)   #Draw red bounding box around the face\n",
    "    roi_gray = gray[y:y+h, x:x+w] #Original gray image but only the detected face part\n",
    "    roi_color = img[y:y+h, x:x+w] #Original color image but only the detected face part. For display purposes\n",
    "    eyes = eye_cascade.detectMultiScale(roi_gray) #Use the gray face image to detect eyes\n",
    "    for (ex,ey,ew,eh) in eyes:\n",
    "        cv2.rectangle(roi_color,(ex,ey),(ex+ew,ey+eh),(0,255,0),2) #Draw green bounding boxes around the eyes\n",
    "\n",
    "cv2.imshow('img', img)\n",
    "cv2.waitKey(0)\n",
    "cv2.destroyAllWindows()\n",
    "        "
   ]
  },
  {
   "cell_type": "code",
   "execution_count": null,
   "id": "226bbc84",
   "metadata": {},
   "outputs": [],
   "source": []
  }
 ],
 "metadata": {
  "kernelspec": {
   "display_name": "Python 3 (ipykernel)",
   "language": "python",
   "name": "python3"
  },
  "language_info": {
   "codemirror_mode": {
    "name": "ipython",
    "version": 3
   },
   "file_extension": ".py",
   "mimetype": "text/x-python",
   "name": "python",
   "nbconvert_exporter": "python",
   "pygments_lexer": "ipython3",
   "version": "3.10.5"
  }
 },
 "nbformat": 4,
 "nbformat_minor": 5
}
